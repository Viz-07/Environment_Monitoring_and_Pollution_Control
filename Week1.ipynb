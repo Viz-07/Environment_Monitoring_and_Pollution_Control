{
  "nbformat": 4,
  "nbformat_minor": 0,
  "metadata": {
    "colab": {
      "provenance": [],
      "gpuType": "T4"
    },
    "kernelspec": {
      "name": "python3",
      "display_name": "Python 3"
    },
    "language_info": {
      "name": "python"
    },
    "accelerator": "GPU"
  },
  "cells": [
    {
      "cell_type": "code",
      "execution_count": null,
      "metadata": {
        "collapsed": true,
        "id": "YduulylyEXfU"
      },
      "outputs": [],
      "source": [
        "import kagglehub\n",
        "\n",
        "# Download latest version\n",
        "path = kagglehub.dataset_download(\"picekl/geoplant\")\n",
        "\n",
        "print(\"Path to dataset files:\", path)"
      ]
    },
    {
      "cell_type": "code",
      "source": [
        "from google.colab import drive\n",
        "drive.mount('/content/drive')"
      ],
      "metadata": {
        "id": "1RoF_JM4Gm-w"
      },
      "execution_count": null,
      "outputs": []
    },
    {
      "cell_type": "code",
      "source": [
        "import pandas as pd\n",
        "\n",
        "chunk_iter = pd.read_csv('path_to/GLC24_PO_metadata_train.csv', chunksize=100000)\n",
        "for chunk in chunk_iter:\n",
        "    print(chunk.head())\n",
        "    break  # Just to view the first chunk\n",
        "\n",
        "pa_chunk_iter = pd.read_csv('path_to/GLC24_PA_metadata_train.csv', chunksize=100000)\n",
        "for pa_chunk in pa_chunk_iter:\n",
        "    print(pa_chunk.head())\n",
        "    break  # View first chunk\n"
      ],
      "metadata": {
        "id": "xJS56BY-Fb_I"
      },
      "execution_count": null,
      "outputs": []
    },
    {
      "cell_type": "code",
      "source": [
        "chunk = next(chunk_iter)\n",
        "print(chunk.info())\n",
        "print(chunk.describe())\n",
        "print(chunk['taxonRank'].unique())\n",
        "\n",
        "pa_chunk = next(pa_chunk_iter)\n",
        "print(pa_chunk.info())\n",
        "print(pa_chunk.describe())\n",
        "print(pa_chunk['taxonRank'].unique())\n"
      ],
      "metadata": {
        "id": "lNE-ys4uFdZy"
      },
      "execution_count": null,
      "outputs": []
    },
    {
      "cell_type": "code",
      "source": [
        "print(chunk.isnull().sum())\n",
        "chunk = chunk.dropna(subset=['lat', 'lon'])\n",
        "chunk['year'].fillna(chunk['year'].median(), inplace=True)\n",
        "\n",
        "print(pa_chunk.isnull().sum())\n",
        "pa_chunk = pa_chunk.dropna(subset=['lat', 'lon'])\n",
        "pa_chunk['year'].fillna(pa_chunk['year'].median(), inplace=True)\n"
      ],
      "metadata": {
        "id": "oARaoOIFGLnS"
      },
      "execution_count": null,
      "outputs": []
    }
  ]
}
