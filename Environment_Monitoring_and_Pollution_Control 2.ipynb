{
  "nbformat": 4,
  "nbformat_minor": 0,
  "metadata": {
    "colab": {
      "provenance": [],
      "gpuType": "T4"
    },
    "kernelspec": {
      "name": "python3",
      "display_name": "Python 3"
    },
    "language_info": {
      "name": "python"
    },
    "accelerator": "GPU"
  },
  "cells": [
    {
      "cell_type": "code",
      "execution_count": 4,
      "metadata": {
        "collapsed": true,
        "id": "YduulylyEXfU"
      },
      "outputs": [],
      "source": [
        "from sklearn.datasets import fetch_species_distributions\n",
        "import numpy as np\n",
        "data = fetch_species_distributions()\n"
      ]
    },
    {
      "cell_type": "code",
      "source": [
        "species_names = [name.decode() for name in np.unique(data.train['species'])]\n",
        "target_species = 'microryzomys_minutus'\n",
        "\n",
        "# Filter training points for the chosen species\n",
        "train_mask = [name.decode() == target_species for name in data.train['species']]\n",
        "X_train_coords = np.c_[data.train['dd long'], data.train['dd lat']][train_mask]\n",
        "y_train = np.ones(X_train_coords.shape[0])  # all present\n",
        "\n",
        "# Randomly sample background points (absence), e.g. from the environmental grid\n",
        "n_absences = X_train_coords.shape[0]\n",
        "grid_x, grid_y = np.meshgrid(\n",
        "    np.linspace(data.x_left_lower_corner, data.x_left_lower_corner + data.grid_size * data.Nx, data.Nx),\n",
        "    np.linspace(data.y_left_lower_corner, data.y_left_lower_corner + data.grid_size * data.grid_size * data.Ny, data.Ny)\n",
        ")\n",
        "absences_coords = np.array([grid_x.flatten(), grid_y.flatten()]).T[np.random.choice(grid_x.size, n_absences, replace=False)]\n",
        "y_absence = np.zeros(n_absences)\n",
        "\n",
        "# Combine presences and absences for training\n",
        "X_train = np.vstack([X_train_coords, absences_coords])\n",
        "y_train = np.concatenate([y_train, y_absence])\n",
        "\n",
        "\n",
        "print('X_train shape:', X_train.shape)\n",
        "print('y_train ones:', (y_train == 1).sum())\n",
        "print('y_train zeros:', (y_train == 0).sum())\n",
        "print('Unique species:', species_names)\n",
        "print('First few presence coords:', X_train_coords[:5])\n",
        "print('First few absence coords:', absences_coords[:5])\n",
        "\n"
      ],
      "metadata": {
        "id": "xJS56BY-Fb_I",
        "colab": {
          "base_uri": "https://localhost:8080/"
        },
        "outputId": "db2e54f0-9ec9-4a0a-e0a1-7f4ea038145d"
      },
      "execution_count": 49,
      "outputs": [
        {
          "output_type": "stream",
          "name": "stdout",
          "text": [
            "X_train shape: (176, 2)\n",
            "y_train ones: 88\n",
            "y_train zeros: 88\n",
            "Unique species: ['bradypus_variegatus', 'bradypus_variegatus_0', 'bradypus_variegatus_1', 'bradypus_variegatus_2', 'bradypus_variegatus_3', 'bradypus_variegatus_4', 'bradypus_variegatus_5', 'bradypus_variegatus_6', 'bradypus_variegatus_7', 'bradypus_variegatus_8', 'bradypus_variegatus_9', 'microryzomys_minutus', 'microryzomys_minutus_0', 'microryzomys_minutus_1', 'microryzomys_minutus_2', 'microryzomys_minutus_3', 'microryzomys_minutus_4', 'microryzomys_minutus_5', 'microryzomys_minutus_6', 'microryzomys_minutus_7', 'microryzomys_minutus_8', 'microryzomys_minutus_9']\n",
            "First few presence coords: [[-64.7    -17.85  ]\n",
            " [-67.8333 -16.3333]\n",
            " [-67.8833 -16.3   ]\n",
            " [-67.8    -16.2667]\n",
            " [-67.9833 -15.9   ]]\n",
            "First few absence coords: [[-40.80545004 -53.08313639]\n",
            " [-37.50272502 -53.66350094]\n",
            " [-55.96796036 -54.14630421]\n",
            " [-91.847564   -55.12191703]\n",
            " [-78.2863749  -55.30203017]]\n"
          ]
        }
      ]
    },
    {
      "cell_type": "code",
      "source": [
        "def get_env_features(coords, coverages, x_ll, y_ll, grid_size):\n",
        "    \"\"\"\n",
        "    Given coordinates and coverage data, extract environmental features for each point.\n",
        "    Skips coordinates that fall outside grid bounds.\n",
        "\n",
        "    Args:\n",
        "        coords (np.ndarray): N x 2 array of [longitude, latitude] (shape: [N, 2])\n",
        "        coverages (np.ndarray): Environment data array (shape: [n_features, Ny, Nx])\n",
        "        x_ll (float): Longitude of grid's lower-left corner\n",
        "        y_ll (float): Latitude of grid's lower-left corner\n",
        "        grid_size (float): Grid cell size (degrees)\n",
        "\n",
        "    Returns:\n",
        "        tuple: (np.ndarray, np.ndarray) - N x n_features array of environmental features, indices of valid points\n",
        "    \"\"\"\n",
        "    envs = []\n",
        "    valid_indices = []\n",
        "    Ny, Nx = coverages.shape[1], coverages.shape[2]\n",
        "    for i, (lon, lat) in enumerate(coords):\n",
        "        ix = int((lon - x_ll) / grid_size)\n",
        "        iy = int((lat - y_ll) / grid_size)\n",
        "        if 0 <= ix < Nx and 0 <= iy < Ny:\n",
        "            vals = coverages[:, iy, ix]\n",
        "            # Replace -9999 (missing data) with np.nan if present\n",
        "            vals = np.where(vals == -9999, np.nan, vals)\n",
        "            envs.append(vals)\n",
        "            valid_indices.append(i)\n",
        "    return np.array(envs), np.array(valid_indices)"
      ],
      "metadata": {
        "id": "nukHi0PaMwjc"
      },
      "execution_count": 50,
      "outputs": []
    },
    {
      "cell_type": "code",
      "source": [
        "X_train_env, train_valid_indices = get_env_features(\n",
        "    X_train, data.coverages,\n",
        "    data.x_left_lower_corner, data.y_left_lower_corner, data.grid_size\n",
        ")\n",
        "X_train_filtered = X_train[train_valid_indices]\n",
        "y_train_filtered = y_train[train_valid_indices]\n",
        "\n",
        "print(\"Environmental features for training shape:\", X_train_env.shape)\n",
        "print(\"Filtered X_train shape:\", X_train_filtered.shape)\n",
        "print(\"Filtered y_train shape:\", y_train_filtered.shape)"
      ],
      "metadata": {
        "colab": {
          "base_uri": "https://localhost:8080/"
        },
        "id": "TpFSKN18L3jH",
        "outputId": "1f07feae-12eb-4962-92ba-36214a102641"
      },
      "execution_count": 51,
      "outputs": [
        {
          "output_type": "stream",
          "name": "stdout",
          "text": [
            "Environmental features for training shape: (176, 14)\n",
            "Filtered X_train shape: (176, 2)\n",
            "Filtered y_train shape: (176,)\n"
          ]
        }
      ]
    },
    {
      "cell_type": "code",
      "source": [
        "# Mask and extract coords for a label with test samples\n",
        "target_species = 'bradypus_variegatus_0'  # or any label with valid test points\n",
        "test_mask = [name.decode() == target_species for name in data.test['species']]\n",
        "X_test_coords = np.c_[data.test['dd long'], data.test['dd lat']][test_mask]\n",
        "y_test = np.ones(X_test_coords.shape[0])\n",
        "\n",
        "X_test_env, test_valid_indices = get_env_features(\n",
        "    X_test_coords, data.coverages,\n",
        "    data.x_left_lower_corner, data.y_left_lower_corner, data.grid_size\n",
        ")\n",
        "# Explicitly cast indices to integer type\n",
        "test_valid_indices = test_valid_indices.astype(int)\n",
        "\n",
        "X_test_filtered = X_test_coords[test_valid_indices]\n",
        "y_test_filtered = y_test[test_valid_indices]\n",
        "\n",
        "print(\"Environmental features for test shape:\", X_test_env.shape)\n",
        "print(\"Filtered X_test shape:\", X_test_filtered.shape)\n",
        "print(\"Filtered y_test shape:\", y_test_filtered.shape)"
      ],
      "metadata": {
        "colab": {
          "base_uri": "https://localhost:8080/"
        },
        "id": "Xcnro3QMMbua",
        "outputId": "19fd4076-a2da-40ec-ca79-4d7408267373"
      },
      "execution_count": 52,
      "outputs": [
        {
          "output_type": "stream",
          "name": "stdout",
          "text": [
            "Environmental features for test shape: (35, 14)\n",
            "Filtered X_test shape: (35, 2)\n",
            "Filtered y_test shape: (35,)\n"
          ]
        }
      ]
    },
    {
      "cell_type": "code",
      "source": [
        "from sklearn.ensemble import RandomForestClassifier\n",
        "from sklearn.metrics import roc_auc_score\n",
        "\n",
        "# Train\n",
        "clf = RandomForestClassifier(n_estimators=200, class_weight='balanced', random_state=42)\n",
        "clf.fit(X_train_env, y_train_filtered)\n",
        "\n",
        "# Predict and Evaluate\n",
        "if X_test_env.shape[0] > 0:\n",
        "    y_pred = clf.predict_proba(X_test_env)[:, 1]\n",
        "\n",
        "    # Evaluate\n",
        "    if len(np.unique(y_test_filtered)) > 1:\n",
        "        print(\"AUC:\", roc_auc_score(y_test_filtered, y_pred))\n",
        "    else:\n",
        "        print(\"AUC cannot be calculated: Only one class present in y_test_filtered.\")\n",
        "else:\n",
        "    print(\"No test points within the grid for the target species. Cannot predict or calculate AUC.\")"
      ],
      "metadata": {
        "colab": {
          "base_uri": "https://localhost:8080/"
        },
        "id": "ZuLzVu1YMdtj",
        "outputId": "d2fc049f-b360-4651-a0c3-3aa3d67f1843"
      },
      "execution_count": 55,
      "outputs": [
        {
          "output_type": "stream",
          "name": "stdout",
          "text": [
            "AUC cannot be calculated: Only one class present in y_test_filtered.\n"
          ]
        }
      ]
    },
    {
      "cell_type": "code",
      "source": [
        "import matplotlib.pyplot as plt\n",
        "\n",
        "plt.scatter(X_test_coords[:,0], X_test_coords[:,1], c=y_pred, cmap='viridis', alpha=0.6)\n",
        "plt.colorbar(label='Predicted Suitability')\n",
        "plt.xlabel('Longitude')\n",
        "plt.ylabel('Latitude')\n",
        "plt.title(f'Niche Map: {target_species}')\n",
        "plt.show()\n"
      ],
      "metadata": {
        "colab": {
          "base_uri": "https://localhost:8080/",
          "height": 472
        },
        "id": "0BqsFpIkNBRe",
        "outputId": "88d6a1e2-1614-4f4a-be8b-c937ca4ff29c"
      },
      "execution_count": 56,
      "outputs": [
        {
          "output_type": "display_data",
          "data": {
            "text/plain": [
              "<Figure size 640x480 with 2 Axes>"
            ],
            "image/png": "[encoded data removed]"
          },
          "metadata": {}
        }
      ]
    }
  ]
}