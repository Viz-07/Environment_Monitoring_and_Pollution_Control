{
  "cells": [
    {
      "cell_type": "code",
      "execution_count": null,
      "metadata": {
        "collapsed": true,
        "id": "YduulylyEXfU"
      },
      "outputs": [],
      "source": [
        "# Feature Selection & Preparation\n",
        "import pandas as pd\n",
        "\n",
        "# Example: Select predictors (adjust as needed for your dataset)\n",
        "predictors = [\n",
        "    'lon', 'lat', 'year', 'geoUncertaintyInM', 'areaInM2', \n",
        "    'region', 'country'\n",
        "]\n",
        "\n",
        "# Fill any remaining missing numerical values\n",
        "for col in ['areaInM2', 'geoUncertaintyInM']:\n",
        "    pa_chunk[col] = pa_chunk[col].fillna(pa_chunk[col].median())\n",
        "\n",
        "# One-hot encode categorical variables\n",
        "pa_chunk = pd.get_dummies(pa_chunk, columns=['region', 'country'], drop_first=True)\n",
        "\n",
        "# Define target variable (1 for presence, 0 for absence/background)\n",
        "y = pa_chunk['presence']      # Replace with the correct label column if named differently\n",
        "X = pa_chunk.drop(['presence', 'surveyId', 'county', 'district'], axis=1)"
      ]
    },
    {
      "cell_type": "code",
      "execution_count": null,
      "metadata": {
        "id": "1RoF_JM4Gm-w"
      },
      "outputs": [],
      "source": [
        "# Split Training and Test Data\n",
        "from sklearn.model_selection import train_test_split\n",
        "\n",
        "X_train, X_test, y_train, y_test = train_test_split(\n",
        "    X, y, test_size=0.2, stratify=y, random_state=42\n",
        ")"
      ]
    },
    {
      "cell_type": "code",
      "execution_count": null,
      "metadata": {
        "id": "xJS56BY-Fb_I"
      },
      "outputs": [],
      "source": [
        "# Train the Random Forest Model\n",
        "from sklearn.ensemble import RandomForestClassifier\n",
        "\n",
        "rf = RandomForestClassifier(\n",
        "    n_estimators=200,\n",
        "    class_weight='balanced',\n",
        "    random_state=42\n",
        ")\n",
        "rf.fit(X_train, y_train)\n"
      ]
    },
    {
      "cell_type": "code",
      "execution_count": null,
      "metadata": {
        "id": "lNE-ys4uFdZy"
      },
      "outputs": [],
      "source": [
        "# Evaluate the Model\n",
        "from sklearn.metrics import roc_auc_score, classification_report, confusion_matrix\n",
        "\n",
        "y_pred = rf.predict(X_test)\n",
        "y_pred_prob = rf.predict_proba(X_test)[:, 1]\n",
        "\n",
        "print('AUC:', roc_auc_score(y_test, y_pred_prob))\n",
        "print('Classification Report:\\n', classification_report(y_test, y_pred))\n",
        "print('Confusion Matrix:\\n', confusion_matrix(y_test, y_pred))\n"
      ]
    },
    {
      "cell_type": "code",
      "execution_count": null,
      "metadata": {
        "id": "oARaoOIFGLnS"
      },
      "outputs": [],
      "source": [
        "# Visualize Predictions (Example: Scatter plot of predicted probabilities)\n",
        "import matplotlib.pyplot as plt\n",
        "\n",
        "plt.scatter(X_test['lon'], X_test['lat'], c=y_pred_prob, cmap='viridis', alpha=0.5)\n",
        "plt.colorbar(label='Habitat Suitability')\n",
        "plt.xlabel('Longitude')\n",
        "plt.ylabel('Latitude')\n",
        "plt.title('Ecological Niche Map')\n",
        "plt.show()\n"
      ]
    }
  ],
  "metadata": {
    "accelerator": "GPU",
    "colab": {
      "gpuType": "T4",
      "provenance": []
    },
    "kernelspec": {
      "display_name": "Python 3",
      "name": "python3"
    },
    "language_info": {
      "name": "python"
    }
  },
  "nbformat": 4,
  "nbformat_minor": 0
}
